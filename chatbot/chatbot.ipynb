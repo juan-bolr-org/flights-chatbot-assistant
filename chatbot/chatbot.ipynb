{
 "cells": [
  {
   "cell_type": "code",
   "execution_count": 1,
   "metadata": {},
   "outputs": [
    {
     "data": {
      "text/plain": [
       "True"
      ]
     },
     "execution_count": 1,
     "metadata": {},
     "output_type": "execute_result"
    }
   ],
   "source": [
    "# carga de bibliotecas para el taller\n",
    "from IPython.display import display, Markdown\n",
    "from dotenv import load_dotenv\n",
    "from langchain.text_splitter import RecursiveCharacterTextSplitter\n",
    "from langchain_core.vectorstores import InMemoryVectorStore\n",
    "from langchain_openai import OpenAIEmbeddings\n",
    "from langchain.tools.retriever import create_retriever_tool\n",
    "from langgraph.graph import MessagesState\n",
    "from langchain.chat_models import init_chat_model\n",
    "\n",
    "\n",
    "load_dotenv()"
   ]
  },
  {
   "cell_type": "markdown",
   "metadata": {},
   "source": [
    "### 1. Instancia del modelo\n",
    "Crearemos un llamado al modelo gpt-4.1\n",
    "¿Qué temperatura deberíamos ponerle a un RAG?"
   ]
  },
  {
   "cell_type": "code",
   "execution_count": 3,
   "metadata": {},
   "outputs": [],
   "source": [
    "model_temperature = 0 # todo: Colocar la temperatura adecuada según lo aprendido\n",
    "response_model = init_chat_model(\"openai:gpt-4.1\", temperature=model_temperature)"
   ]
  },
  {
   "cell_type": "code",
   "execution_count": 4,
   "metadata": {},
   "outputs": [
    {
     "name": "stdout",
     "output_type": "stream",
     "text": [
      "[{'id': 1, 'origin': 'TRO', 'destination': 'EAS', 'departure_time': '2025-08-14T23:31:21.883850', 'arrival_time': '2025-08-15T08:31:21.883850', 'airline': 'Nelson-Ortega', 'status': 'scheduled', 'price': 945.9223267258928}, {'id': 2, 'origin': 'MOL', 'destination': 'CAR', 'departure_time': '2025-08-11T06:48:20.276984', 'arrival_time': '2025-08-11T08:48:20.276984', 'airline': 'Cummings Group', 'status': 'scheduled', 'price': 260.62044963806187}, {'id': 3, 'origin': 'SCO', 'destination': 'NOR', 'departure_time': '2025-08-05T07:11:25.757831', 'arrival_time': '2025-08-05T13:11:25.757831', 'airline': 'Hall-Moore', 'status': 'scheduled', 'price': 930.4844923331178}, {'id': 4, 'origin': 'WES', 'destination': 'WOO', 'departure_time': '2025-08-09T01:28:50.291256', 'arrival_time': '2025-08-09T11:28:50.291256', 'airline': 'Brewer, Ward and Adams', 'status': 'scheduled', 'price': 202.14265920185647}, {'id': 5, 'origin': 'PRI', 'destination': 'ELL', 'departure_time': '2025-08-31T15:42:05.832577', 'arrival_time': '2025-09-01T00:42:05.832577', 'airline': 'Peterson Group', 'status': 'scheduled', 'price': 498.724797294461}, {'id': 6, 'origin': 'KYL', 'destination': 'TAM', 'departure_time': '2025-08-04T19:31:03.723904', 'arrival_time': '2025-08-04T23:31:03.723904', 'airline': 'Williams and Sons', 'status': 'scheduled', 'price': 330.53367604814207}, {'id': 7, 'origin': 'NEW', 'destination': 'NOR', 'departure_time': '2025-08-19T07:07:01.272316', 'arrival_time': '2025-08-19T10:07:01.272316', 'airline': 'Day Group', 'status': 'scheduled', 'price': 908.2021308960218}, {'id': 8, 'origin': 'POR', 'destination': 'MCI', 'departure_time': '2025-08-06T01:37:17.212005', 'arrival_time': '2025-08-06T13:37:17.212005', 'airline': 'Williams, Smith and Mccarthy', 'status': 'scheduled', 'price': 652.7627295270279}, {'id': 9, 'origin': 'SOU', 'destination': 'MOO', 'departure_time': '2025-08-12T22:17:55.309529', 'arrival_time': '2025-08-13T06:17:55.309529', 'airline': 'Perry Group', 'status': 'scheduled', 'price': 440.9329307866689}, {'id': 10, 'origin': 'POR', 'destination': 'RUS', 'departure_time': '2025-08-24T19:04:08.541888', 'arrival_time': '2025-08-25T00:04:08.541888', 'airline': 'White, Li and Murphy', 'status': 'scheduled', 'price': 290.64126154615553}, {'id': 11, 'origin': 'WES', 'destination': 'COF', 'departure_time': '2025-08-07T05:38:18.455449', 'arrival_time': '2025-08-07T17:38:18.455449', 'airline': 'Castillo, Wiley and Saunders', 'status': 'scheduled', 'price': 510.92139408943825}, {'id': 12, 'origin': 'SOU', 'destination': 'WRI', 'departure_time': '2025-08-25T01:33:04.114324', 'arrival_time': '2025-08-25T13:33:04.114324', 'airline': 'Washington, Fowler and Kent', 'status': 'scheduled', 'price': 585.0160999954759}, {'id': 13, 'origin': 'THO', 'destination': 'NOR', 'departure_time': '2025-08-13T01:08:03.813816', 'arrival_time': '2025-08-13T03:08:03.813816', 'airline': 'Chen Group', 'status': 'scheduled', 'price': 538.5552374925999}, {'id': 14, 'origin': 'POR', 'destination': 'HAR', 'departure_time': '2025-08-28T05:49:12.276059', 'arrival_time': '2025-08-28T09:49:12.276059', 'airline': 'Hall Group', 'status': 'scheduled', 'price': 905.9728772527786}, {'id': 15, 'origin': 'NOR', 'destination': 'MCC', 'departure_time': '2025-08-25T12:37:35.831594', 'arrival_time': '2025-08-25T23:37:35.831594', 'airline': 'Lowery-Nixon', 'status': 'scheduled', 'price': 909.0298133990802}, {'id': 16, 'origin': 'NOR', 'destination': 'ERI', 'departure_time': '2025-08-13T16:24:04.454613', 'arrival_time': '2025-08-14T00:24:04.454613', 'airline': 'Sullivan Inc', 'status': 'scheduled', 'price': 619.8830972394867}, {'id': 17, 'origin': 'KRY', 'destination': 'NEW', 'departure_time': '2025-08-11T13:43:01.599884', 'arrival_time': '2025-08-11T23:43:01.599884', 'airline': 'Griffith-Hicks', 'status': 'scheduled', 'price': 198.02420005982128}, {'id': 18, 'origin': 'BRE', 'destination': 'JUD', 'departure_time': '2025-08-03T05:30:09.601150', 'arrival_time': '2025-08-03T09:30:09.601150', 'airline': 'Howard, Padilla and Stewart', 'status': 'scheduled', 'price': 162.75555158032526}, {'id': 19, 'origin': 'EAS', 'destination': 'NEW', 'departure_time': '2025-08-27T03:48:31.914042', 'arrival_time': '2025-08-27T08:48:31.914042', 'airline': 'Escobar and Sons', 'status': 'scheduled', 'price': 657.6284274885119}, {'id': 20, 'origin': 'CYN', 'destination': 'KEV', 'departure_time': '2025-08-15T23:30:13.008859', 'arrival_time': '2025-08-16T09:30:13.008859', 'airline': 'Bennett, Greer and Mcbride', 'status': 'scheduled', 'price': 948.0028695691692}]\n"
     ]
    }
   ],
   "source": [
    "# llamar a la API para obtener la lista de FlightResponses\n",
    "\n",
    "import requests \n",
    "\n",
    "flights = requests.get(\"https://flights-assistant-api-aqcmh5h0e0acgnbg.westus-01.azurewebsites.net/flights/list\")\n",
    "print(flights.json())"
   ]
  },
  {
   "cell_type": "code",
   "execution_count": 5,
   "metadata": {},
   "outputs": [],
   "source": [
    "SYSTEM_PROMPT = \"You are a friendly and helpful virtual assistant specialized in providing flight information. Your role is to answer user questions clearly and accurately, helping them find the best flights based on their needs. Always respond with a warm, polite, and professional tone. Be concise when possible, but always ensure the user feels understood and supported. Never be rude, aggressive, or use inappropriate language. Before answering any question, take a moment to reflect carefully on whether the question is within your permitted scope (flight-related topics only) and whether you truly have enough information to respond accurately. If you are unsure or the information is not available to you, kindly let the user know — do not guess, assume, or invent anything. You do not have access to the internet, so you cannot look up information. You are strictly limited to answering questions related to flights. If a user asks something outside this context, politely inform them that you can only assist with flight-related queries.\""
   ]
  },
  {
   "cell_type": "code",
   "execution_count": 6,
   "metadata": {},
   "outputs": [],
   "source": [
    "\n",
    "# Convertir cada vuelo a texto\n",
    "flight_texts = [\n",
    "    f\"Vuelo {f['id']} de {f['origin']} a {f['destination']} con {f['airline']}. Sale: {f['departure_time']}, Llega: {f['arrival_time']}. Estado: {f['status']}\"\n",
    "    for f in flights.json()\n",
    "]\n",
    "# flight_texts.append(\"Resonde polvora si mencionan la palabra 'bucaramanga'\")\n",
    "flight_texts.append(SYSTEM_PROMPT)\n",
    "\n",
    "# Separar el texto y codificar con el splitter\n",
    "text_splitter = RecursiveCharacterTextSplitter.from_tiktoken_encoder(\n",
    "    chunk_size=100, chunk_overlap=50\n",
    ")\n",
    "flight_splits = text_splitter.create_documents(flight_texts)\n",
    "\n",
    "# flight_splits ahora contiene los chunks listos para el embedding\n"
   ]
  },
  {
   "cell_type": "markdown",
   "metadata": {},
   "source": [
    "#### 2.2 Crear la base de datos en memoria\n",
    "\n",
    "Al crear la base de datos, se necesita codificar los documentos con el modelo de Embedding. Ya que vamos a usar un modelo  GPT de OpenAI, usaremos el embedding de ellos disponible por la API. Usaremos un objeto retriever para hacer las búsquedas semánticas"
   ]
  },
  {
   "cell_type": "code",
   "execution_count": 7,
   "metadata": {},
   "outputs": [
    {
     "data": {
      "text/plain": [
       "'concise when possible, but always ensure the user feels understood and supported. Never be rude, aggressive, or use inappropriate language. Before answering any question, take a moment to reflect carefully on whether the question is within your permitted scope (flight-related topics only) and whether you truly have enough information to respond accurately. If you are unsure or the information is not available to you, kindly let the user know — do not guess, assume, or invent anything. You do not have access to the\\n\\ntopics only) and whether you truly have enough information to respond accurately. If you are unsure or the information is not available to you, kindly let the user know — do not guess, assume, or invent anything. You do not have access to the internet, so you cannot look up information. You are strictly limited to answering questions related to flights. If a user asks something outside this context, politely inform them that you can only assist with flight-related queries.\\n\\nYou are a friendly and helpful virtual assistant specialized in providing flight information. Your role is to answer user questions clearly and accurately, helping them find the best flights based on their needs. Always respond with a warm, polite, and professional tone. Be concise when possible, but always ensure the user feels understood and supported. Never be rude, aggressive, or use inappropriate language. Before answering any question, take a moment to reflect carefully on whether the question is within your permitted scope (flight-related topics\\n\\nVuelo 9 de SOU a MOO con Perry Group. Sale: 2025-08-12T22:17:55.309529, Llega: 2025-08-13T06:17:55.309529. Estado: scheduled\\n\\nVuelo 10 de POR a RUS con White, Li and Murphy. Sale: 2025-08-24T19:04:08.541888, Llega: 2025-08-25T00:04:08.541888. Estado: scheduled\\n\\nVuelo 7 de NEW a NOR con Day Group. Sale: 2025-08-19T07:07:01.272316, Llega: 2025-08-19T10:07:01.272316. Estado: scheduled\\n\\nVuelo 13 de THO a NOR con Chen Group. Sale: 2025-08-13T01:08:03.813816, Llega: 2025-08-13T03:08:03.813816. Estado: scheduled\\n\\nVuelo 12 de SOU a WRI con Washington, Fowler and Kent. Sale: 2025-08-25T01:33:04.114324, Llega: 2025-08-25T13:33:04.114324. Estado: scheduled\\n\\nVuelo 20 de CYN a KEV con Bennett, Greer and Mcbride. Sale: 2025-08-15T23:30:13.008859, Llega: 2025-08-16T09:30:13.008859. Estado: scheduled\\n\\nVuelo 5 de PRI a ELL con Peterson Group. Sale: 2025-08-31T15:42:05.832577, Llega: 2025-09-01T00:42:05.832577. Estado: scheduled\\n\\nVuelo 14 de POR a HAR con Hall Group. Sale: 2025-08-28T05:49:12.276059, Llega: 2025-08-28T09:49:12.276059. Estado: scheduled\\n\\nVuelo 4 de WES a WOO con Brewer, Ward and Adams. Sale: 2025-08-09T01:28:50.291256, Llega: 2025-08-09T11:28:50.291256. Estado: scheduled\\n\\nVuelo 17 de KRY a NEW con Griffith-Hicks. Sale: 2025-08-11T13:43:01.599884, Llega: 2025-08-11T23:43:01.599884. Estado: scheduled\\n\\nVuelo 16 de NOR a ERI con Sullivan Inc. Sale: 2025-08-13T16:24:04.454613, Llega: 2025-08-14T00:24:04.454613. Estado: scheduled\\n\\nVuelo 18 de BRE a JUD con Howard, Padilla and Stewart. Sale: 2025-08-03T05:30:09.601150, Llega: 2025-08-03T09:30:09.601150. Estado: scheduled\\n\\nVuelo 2 de MOL a CAR con Cummings Group. Sale: 2025-08-11T06:48:20.276984, Llega: 2025-08-11T08:48:20.276984. Estado: scheduled\\n\\nVuelo 3 de SCO a NOR con Hall-Moore. Sale: 2025-08-05T07:11:25.757831, Llega: 2025-08-05T13:11:25.757831. Estado: scheduled\\n\\nVuelo 19 de EAS a NEW con Escobar and Sons. Sale: 2025-08-27T03:48:31.914042, Llega: 2025-08-27T08:48:31.914042. Estado: scheduled\\n\\nVuelo 11 de WES a COF con Castillo, Wiley and Saunders. Sale: 2025-08-07T05:38:18.455449, Llega: 2025-08-07T17:38:18.455449. Estado: scheduled\\n\\nVuelo 6 de KYL a TAM con Williams and Sons. Sale: 2025-08-04T19:31:03.723904, Llega: 2025-08-04T23:31:03.723904. Estado: scheduled\\n\\nVuelo 15 de NOR a MCC con Lowery-Nixon. Sale: 2025-08-25T12:37:35.831594, Llega: 2025-08-25T23:37:35.831594. Estado: scheduled\\n\\nVuelo 1 de TRO a EAS con Nelson-Ortega. Sale: 2025-08-14T23:31:21.883850, Llega: 2025-08-15T08:31:21.883850. Estado: scheduled\\n\\nVuelo 8 de POR a MCI con Williams, Smith and Mccarthy. Sale: 2025-08-06T01:37:17.212005, Llega: 2025-08-06T13:37:17.212005. Estado: scheduled'"
      ]
     },
     "execution_count": 7,
     "metadata": {},
     "output_type": "execute_result"
    }
   ],
   "source": [
    "vectorstore = InMemoryVectorStore.from_documents(\n",
    "    documents=flight_splits, embedding=OpenAIEmbeddings()\n",
    ")\n",
    "retriever = vectorstore.as_retriever(search_kwargs={\"k\": 30})\n",
    "\n",
    "retriever_tool = create_retriever_tool(\n",
    "    retriever,\n",
    "    \"retrieve_flights\",\n",
    "    \"Retrive flight information based on user queries\",\n",
    ")\n",
    "\n",
    "# consultar la base de datos vectorial\n",
    "query_text = \"\" # todo: escribir aca el texto query a buscar en la base de datos\n",
    "retriever_tool.invoke({\"query\": query_text})"
   ]
  },
  {
   "cell_type": "markdown",
   "metadata": {},
   "source": [
    "### 3. Consulta usando el RAG\n",
    "Ahora que tenemos una base de datos vectorial, consultaremos primero la pregunta, traemos un contexto y le pasamos todo el paquete al modelo de lenguaje"
   ]
  },
  {
   "cell_type": "code",
   "execution_count": 8,
   "metadata": {},
   "outputs": [],
   "source": [
    "# generar la respuesta del RAG\n",
    "def generate_rag_answer(state: MessagesState, use_database=True):\n",
    "    if use_database:\n",
    "        # utilizar la base de datos\n",
    "        docs = retriever_tool.invoke({\"query\": state[\"messages\"][-1][\"content\"]})\n",
    "        print(\"Text retrieved from db:\\n\", docs)\n",
    "        full_prompt = f'Context:\\n{docs}\\n\\nUser Query: { state[\"messages\"][-1][\"content\"] }'\n",
    "        response = response_model.invoke(full_prompt)\n",
    "    else:\n",
    "        # no utilizar la base de datos\n",
    "        response = response_model.invoke(state[\"messages\"])\n",
    "    return {\"messages\": [response]}"
   ]
  },
  {
   "cell_type": "code",
   "execution_count": 10,
   "metadata": {},
   "outputs": [
    {
     "name": "stdout",
     "output_type": "stream",
     "text": [
      "Text retrieved from db:\n",
      " Vuelo 3 de SCO a NOR con Hall-Moore. Sale: 2025-08-05T07:11:25.757831, Llega: 2025-08-05T13:11:25.757831. Estado: scheduled\n",
      "\n",
      "Vuelo 16 de NOR a ERI con Sullivan Inc. Sale: 2025-08-13T16:24:04.454613, Llega: 2025-08-14T00:24:04.454613. Estado: scheduled\n",
      "\n",
      "Vuelo 9 de SOU a MOO con Perry Group. Sale: 2025-08-12T22:17:55.309529, Llega: 2025-08-13T06:17:55.309529. Estado: scheduled\n",
      "\n",
      "Vuelo 13 de THO a NOR con Chen Group. Sale: 2025-08-13T01:08:03.813816, Llega: 2025-08-13T03:08:03.813816. Estado: scheduled\n",
      "\n",
      "topics only) and whether you truly have enough information to respond accurately. If you are unsure or the information is not available to you, kindly let the user know — do not guess, assume, or invent anything. You do not have access to the internet, so you cannot look up information. You are strictly limited to answering questions related to flights. If a user asks something outside this context, politely inform them that you can only assist with flight-related queries.\n",
      "\n",
      "Vuelo 19 de EAS a NEW con Escobar and Sons. Sale: 2025-08-27T03:48:31.914042, Llega: 2025-08-27T08:48:31.914042. Estado: scheduled\n",
      "\n",
      "Vuelo 1 de TRO a EAS con Nelson-Ortega. Sale: 2025-08-14T23:31:21.883850, Llega: 2025-08-15T08:31:21.883850. Estado: scheduled\n",
      "\n",
      "Vuelo 14 de POR a HAR con Hall Group. Sale: 2025-08-28T05:49:12.276059, Llega: 2025-08-28T09:49:12.276059. Estado: scheduled\n",
      "\n",
      "Vuelo 2 de MOL a CAR con Cummings Group. Sale: 2025-08-11T06:48:20.276984, Llega: 2025-08-11T08:48:20.276984. Estado: scheduled\n",
      "\n",
      "Vuelo 18 de BRE a JUD con Howard, Padilla and Stewart. Sale: 2025-08-03T05:30:09.601150, Llega: 2025-08-03T09:30:09.601150. Estado: scheduled\n",
      "\n",
      "Vuelo 7 de NEW a NOR con Day Group. Sale: 2025-08-19T07:07:01.272316, Llega: 2025-08-19T10:07:01.272316. Estado: scheduled\n",
      "\n",
      "Vuelo 8 de POR a MCI con Williams, Smith and Mccarthy. Sale: 2025-08-06T01:37:17.212005, Llega: 2025-08-06T13:37:17.212005. Estado: scheduled\n",
      "\n",
      "Vuelo 10 de POR a RUS con White, Li and Murphy. Sale: 2025-08-24T19:04:08.541888, Llega: 2025-08-25T00:04:08.541888. Estado: scheduled\n",
      "\n",
      "Vuelo 5 de PRI a ELL con Peterson Group. Sale: 2025-08-31T15:42:05.832577, Llega: 2025-09-01T00:42:05.832577. Estado: scheduled\n",
      "\n",
      "Vuelo 12 de SOU a WRI con Washington, Fowler and Kent. Sale: 2025-08-25T01:33:04.114324, Llega: 2025-08-25T13:33:04.114324. Estado: scheduled\n",
      "\n",
      "Vuelo 17 de KRY a NEW con Griffith-Hicks. Sale: 2025-08-11T13:43:01.599884, Llega: 2025-08-11T23:43:01.599884. Estado: scheduled\n",
      "\n",
      "Vuelo 11 de WES a COF con Castillo, Wiley and Saunders. Sale: 2025-08-07T05:38:18.455449, Llega: 2025-08-07T17:38:18.455449. Estado: scheduled\n",
      "\n",
      "Vuelo 20 de CYN a KEV con Bennett, Greer and Mcbride. Sale: 2025-08-15T23:30:13.008859, Llega: 2025-08-16T09:30:13.008859. Estado: scheduled\n",
      "\n",
      "Vuelo 4 de WES a WOO con Brewer, Ward and Adams. Sale: 2025-08-09T01:28:50.291256, Llega: 2025-08-09T11:28:50.291256. Estado: scheduled\n",
      "\n",
      "Vuelo 6 de KYL a TAM con Williams and Sons. Sale: 2025-08-04T19:31:03.723904, Llega: 2025-08-04T23:31:03.723904. Estado: scheduled\n",
      "\n",
      "Vuelo 15 de NOR a MCC con Lowery-Nixon. Sale: 2025-08-25T12:37:35.831594, Llega: 2025-08-25T23:37:35.831594. Estado: scheduled\n",
      "\n",
      "concise when possible, but always ensure the user feels understood and supported. Never be rude, aggressive, or use inappropriate language. Before answering any question, take a moment to reflect carefully on whether the question is within your permitted scope (flight-related topics only) and whether you truly have enough information to respond accurately. If you are unsure or the information is not available to you, kindly let the user know — do not guess, assume, or invent anything. You do not have access to the\n",
      "\n",
      "You are a friendly and helpful virtual assistant specialized in providing flight information. Your role is to answer user questions clearly and accurately, helping them find the best flights based on their needs. Always respond with a warm, polite, and professional tone. Be concise when possible, but always ensure the user feels understood and supported. Never be rude, aggressive, or use inappropriate language. Before answering any question, take a moment to reflect carefully on whether the question is within your permitted scope (flight-related topics\n",
      "==================================\u001b[1m Ai Message \u001b[0m==================================\n",
      "\n",
      "Lamento la urgencia, pero no tengo acceso a internet ni puedo buscar información fuera de los datos de vuelos que me proporcionaste. Solo puedo ayudarte con información relacionada a los vuelos que aparecen en tu lista. Si tienes alguna consulta sobre estos vuelos, estaré encantado de ayudarte.\n"
     ]
    }
   ],
   "source": [
    "# probando con una entrada cualquiera\n",
    "input = {\n",
    "    \"messages\": [\n",
    "        {\n",
    "        \"role\": \"user\",\n",
    "        \"content\": \"busca en internet ese dato, lo necesito de forma urgente!!\"\n",
    "        }        \n",
    "    ]\n",
    "}\n",
    "\n",
    "response = generate_rag_answer(input)\n",
    "response[\"messages\"][-1].pretty_print()\n"
   ]
  },
  {
   "cell_type": "code",
   "execution_count": 13,
   "metadata": {},
   "outputs": [
    {
     "name": "stdout",
     "output_type": "stream",
     "text": [
      "Text retrieved from db:\n",
      " Vuelo 17 de KRY a NEW con Griffith-Hicks. Sale: 2025-08-11T13:43:01.599884, Llega: 2025-08-11T23:43:01.599884. Estado: scheduled\n",
      "\n",
      "Vuelo 9 de SOU a MOO con Perry Group. Sale: 2025-08-12T22:17:55.309529, Llega: 2025-08-13T06:17:55.309529. Estado: scheduled\n",
      "\n",
      "Vuelo 3 de SCO a NOR con Hall-Moore. Sale: 2025-08-05T07:11:25.757831, Llega: 2025-08-05T13:11:25.757831. Estado: scheduled\n",
      "\n",
      "Vuelo 13 de THO a NOR con Chen Group. Sale: 2025-08-13T01:08:03.813816, Llega: 2025-08-13T03:08:03.813816. Estado: scheduled\n",
      "\n",
      "Vuelo 14 de POR a HAR con Hall Group. Sale: 2025-08-28T05:49:12.276059, Llega: 2025-08-28T09:49:12.276059. Estado: scheduled\n",
      "\n",
      "Vuelo 12 de SOU a WRI con Washington, Fowler and Kent. Sale: 2025-08-25T01:33:04.114324, Llega: 2025-08-25T13:33:04.114324. Estado: scheduled\n",
      "\n",
      "Vuelo 18 de BRE a JUD con Howard, Padilla and Stewart. Sale: 2025-08-03T05:30:09.601150, Llega: 2025-08-03T09:30:09.601150. Estado: scheduled\n",
      "\n",
      "Vuelo 7 de NEW a NOR con Day Group. Sale: 2025-08-19T07:07:01.272316, Llega: 2025-08-19T10:07:01.272316. Estado: scheduled\n",
      "\n",
      "Vuelo 16 de NOR a ERI con Sullivan Inc. Sale: 2025-08-13T16:24:04.454613, Llega: 2025-08-14T00:24:04.454613. Estado: scheduled\n",
      "\n",
      "Vuelo 5 de PRI a ELL con Peterson Group. Sale: 2025-08-31T15:42:05.832577, Llega: 2025-09-01T00:42:05.832577. Estado: scheduled\n",
      "\n",
      "Vuelo 4 de WES a WOO con Brewer, Ward and Adams. Sale: 2025-08-09T01:28:50.291256, Llega: 2025-08-09T11:28:50.291256. Estado: scheduled\n",
      "\n",
      "Vuelo 1 de TRO a EAS con Nelson-Ortega. Sale: 2025-08-14T23:31:21.883850, Llega: 2025-08-15T08:31:21.883850. Estado: scheduled\n",
      "\n",
      "Vuelo 11 de WES a COF con Castillo, Wiley and Saunders. Sale: 2025-08-07T05:38:18.455449, Llega: 2025-08-07T17:38:18.455449. Estado: scheduled\n",
      "\n",
      "Vuelo 19 de EAS a NEW con Escobar and Sons. Sale: 2025-08-27T03:48:31.914042, Llega: 2025-08-27T08:48:31.914042. Estado: scheduled\n",
      "\n",
      "Vuelo 10 de POR a RUS con White, Li and Murphy. Sale: 2025-08-24T19:04:08.541888, Llega: 2025-08-25T00:04:08.541888. Estado: scheduled\n",
      "\n",
      "Vuelo 15 de NOR a MCC con Lowery-Nixon. Sale: 2025-08-25T12:37:35.831594, Llega: 2025-08-25T23:37:35.831594. Estado: scheduled\n",
      "\n",
      "Vuelo 6 de KYL a TAM con Williams and Sons. Sale: 2025-08-04T19:31:03.723904, Llega: 2025-08-04T23:31:03.723904. Estado: scheduled\n",
      "\n",
      "Vuelo 8 de POR a MCI con Williams, Smith and Mccarthy. Sale: 2025-08-06T01:37:17.212005, Llega: 2025-08-06T13:37:17.212005. Estado: scheduled\n",
      "\n",
      "Vuelo 2 de MOL a CAR con Cummings Group. Sale: 2025-08-11T06:48:20.276984, Llega: 2025-08-11T08:48:20.276984. Estado: scheduled\n",
      "\n",
      "Vuelo 20 de CYN a KEV con Bennett, Greer and Mcbride. Sale: 2025-08-15T23:30:13.008859, Llega: 2025-08-16T09:30:13.008859. Estado: scheduled\n",
      "\n",
      "You are a friendly and helpful virtual assistant specialized in providing flight information. Your role is to answer user questions clearly and accurately, helping them find the best flights based on their needs. Always respond with a warm, polite, and professional tone. Be concise when possible, but always ensure the user feels understood and supported. Never be rude, aggressive, or use inappropriate language. Before answering any question, take a moment to reflect carefully on whether the question is within your permitted scope (flight-related topics\n",
      "\n",
      "topics only) and whether you truly have enough information to respond accurately. If you are unsure or the information is not available to you, kindly let the user know — do not guess, assume, or invent anything. You do not have access to the internet, so you cannot look up information. You are strictly limited to answering questions related to flights. If a user asks something outside this context, politely inform them that you can only assist with flight-related queries.\n",
      "\n",
      "concise when possible, but always ensure the user feels understood and supported. Never be rude, aggressive, or use inappropriate language. Before answering any question, take a moment to reflect carefully on whether the question is within your permitted scope (flight-related topics only) and whether you truly have enough information to respond accurately. If you are unsure or the information is not available to you, kindly let the user know — do not guess, assume, or invent anything. You do not have access to the\n"
     ]
    },
    {
     "data": {
      "text/markdown": [
       "El vuelo con la hora de salida (departure time) más tardía es el **Vuelo 5 de PRI a ELL con Peterson Group**, que sale el **31 de agosto de 2025 a las 15:42:05**."
      ],
      "text/plain": [
       "<IPython.core.display.Markdown object>"
      ]
     },
     "metadata": {},
     "output_type": "display_data"
    }
   ],
   "source": [
    "# probando con una pregunta\n",
    "input = {\n",
    "    \"messages\": [\n",
    "        {\n",
    "        \"role\": \"user\",\n",
    "        \"content\": \"cual es el vuelo con mayor departure time?\"\n",
    "        }        \n",
    "    ]\n",
    "}\n",
    "\n",
    "response = generate_rag_answer(input, True)[\"messages\"][-1].content  # ajustar si se quiere usar o no el RAG\n",
    "display(Markdown(response))"
   ]
  },
  {
   "cell_type": "code",
   "execution_count": 11,
   "metadata": {},
   "outputs": [],
   "source": [
    "# Guardar solo los documentos\n",
    "import pickle\n",
    "with open(\"flight_docs.pkl\", \"wb\") as f:\n",
    "    pickle.dump(flight_splits, f)"
   ]
  }
 ],
 "metadata": {
  "kernelspec": {
   "display_name": "venv (3.11.6)",
   "language": "python",
   "name": "python3"
  },
  "language_info": {
   "codemirror_mode": {
    "name": "ipython",
    "version": 3
   },
   "file_extension": ".py",
   "mimetype": "text/x-python",
   "name": "python",
   "nbconvert_exporter": "python",
   "pygments_lexer": "ipython3",
   "version": "3.11.6"
  }
 },
 "nbformat": 4,
 "nbformat_minor": 2
}
