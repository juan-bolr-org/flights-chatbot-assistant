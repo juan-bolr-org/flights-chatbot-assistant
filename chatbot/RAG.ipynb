{
 "cells": [
  {
   "cell_type": "markdown",
   "id": "940fb33e",
   "metadata": {},
   "source": [
    "# RAG Knowledge Base Generation\n",
    "This notebook generates knowledge base documents for the flights chatbot assistant."
   ]
  },
  {
   "cell_type": "code",
   "execution_count": 8,
   "id": "f611ce7a",
   "metadata": {},
   "outputs": [],
   "source": [
    "import json\n",
    "import yaml\n",
    "import pickle\n",
    "from pathlib import Path"
   ]
  },
  {
   "cell_type": "markdown",
   "id": "3db0234e",
   "metadata": {},
   "source": [
    "## Generate FAQ Knowledge Base"
   ]
  },
  {
   "cell_type": "code",
   "execution_count": 9,
   "id": "5e082445",
   "metadata": {},
   "outputs": [
    {
     "name": "stdout",
     "output_type": "stream",
     "text": [
      "Generated 19 FAQ entries.\n",
      "Sample FAQ: What is the baggage allowance for domestic flights? Each passenger is allowed one checked bag up to ...\n"
     ]
    }
   ],
   "source": [
    "# Generate comprehensive FAQ data\n",
    "faqs_data = [\n",
    "    \"What is the baggage allowance for domestic flights? Each passenger is allowed one checked bag up to 23kg and one carry-on bag up to 8kg.\",\n",
    "    \"How early should I arrive at the airport before my flight? It is recommended to arrive at least 2 hours before domestic flights and 3 hours before international flights.\",\n",
    "    \"Can I change my flight after booking? Yes, you can change your flight up to 24 hours before departure, subject to availability and fare difference.\",\n",
    "    \"What items are prohibited in carry-on luggage? Prohibited items include liquids over 100ml, sharp objects, and flammable materials.\",\n",
    "    \"How do I check in online? Visit our website or mobile app, enter your booking reference, and follow the instructions to check in online.\",\n",
    "    \"What should I do if my flight is delayed or cancelled? You will be notified via email or SMS. You can rebook or request a refund through our customer service.\",\n",
    "    \"Are pets allowed on board? Small pets are allowed in the cabin with prior reservation. Larger pets must travel in the cargo hold.\",\n",
    "    \"Do you offer special assistance for passengers with reduced mobility? Yes, please contact our support team at least 48 hours before your flight to arrange assistance.\",\n",
    "    \"Can I select my seat in advance? Yes, seat selection is available during booking and online check-in, subject to availability.\",\n",
    "    \"What is the policy for unaccompanied minors? Children aged 5-12 can travel alone with our unaccompanied minor service. Additional fees apply.\",\n",
    "    # Chatbot capabilities\n",
    "    \"What can I ask the chatbot? You can ask about flight availability, booking flights, checking your bookings, cancelling flights, and general airline FAQs.\",\n",
    "    \"Can I book a flight through the chatbot? Yes, you can book flights by providing the flight ID and confirming your booking.\",\n",
    "    \"How do I cancel a booking using the chatbot? You can cancel a booking by providing the booking ID and confirming the cancellation.\",\n",
    "    \"Can the chatbot help me find flights? Yes, you can search for flights by providing the origin, destination, and departure date.\",\n",
    "    \"How do I check my bookings with the chatbot? You can retrieve your bookings by asking for your flight reservations. You can filter by status (booked, cancelled, completed), booking date, or departure date, and navigate through multiple pages if you have many bookings.\",\n",
    "    \"Can I filter my bookings when checking them? Yes, you can filter your bookings by status (booked, cancelled, completed), by the date you made the booking, or by the flight departure date. You can also specify how many bookings to show per page.\",\n",
    "    \"What booking statuses can I filter by? You can filter by 'booked' (active upcoming bookings), 'cancelled' (bookings you've cancelled), or 'completed' (flights that have already departed).\",\n",
    "    \"What information do I need to book a flight? You need the flight ID to book a flight through the chatbot.\",\n",
    "    \"Can I change my booking status using the chatbot? Yes, you can update your booking status to cancelled or other statuses as needed.\",\n",
    "]\n",
    "\n",
    "print(f\"Generated {len(faqs_data)} FAQ entries.\")\n",
    "print(\"Sample FAQ:\", faqs_data[0][:100] + \"...\")"
   ]
  },
  {
   "cell_type": "markdown",
   "id": "4988f984",
   "metadata": {},
   "source": [
    "## Generate Product Documentation"
   ]
  },
  {
   "cell_type": "code",
   "execution_count": 10,
   "id": "9ca0f5ac",
   "metadata": {},
   "outputs": [
    {
     "name": "stdout",
     "output_type": "stream",
     "text": [
      "Generated 9 product documentation entries.\n",
      "Sample Doc: Flight Search API: The flight search functionality allows users to search for flights by origin, des...\n"
     ]
    }
   ],
   "source": [
    "# Generate product documentation\n",
    "product_docs = [\n",
    "    \"Flight Search API: The flight search functionality allows users to search for flights by origin, destination, and departure date. All search parameters are optional for flexible searching. Users can also paginate through results.\",\n",
    "    \"Booking Management: Users can create, view, update, and cancel flight bookings through the system. Advanced filtering options are available including status filters, date filters, and pagination support.\",\n",
    "    \"User Authentication: The system uses JWT tokens for secure user authentication. All API calls require a valid bearer token for access control.\",\n",
    "    \"Flight Listing: Users can browse all available flights with pagination support. The system shows comprehensive flight information including prices, airlines, and schedules.\",\n",
    "    \"Booking Status Management: Bookings can have different statuses - booked (active), cancelled, or completed. Users can update booking statuses and view booking history.\",\n",
    "    \"Real-time Updates: The system provides real-time information about flight delays, cancellations, and schedule changes through notifications.\",\n",
    "    \"Multi-channel Support: Users can interact with the system through web interface, mobile app, or chatbot for maximum convenience.\",\n",
    "    \"Data Security: All user data is encrypted and securely stored. The system follows industry best practices for data protection and privacy.\",\n",
    "    \"Customer Support: Users can access 24/7 customer support through various channels including chat, email, and phone for assistance with their bookings.\"\n",
    "]\n",
    "\n",
    "print(f\"Generated {len(product_docs)} product documentation entries.\")\n",
    "print(\"Sample Doc:\", product_docs[0][:100] + \"...\")"
   ]
  },
  {
   "cell_type": "markdown",
   "id": "a921a1b3",
   "metadata": {},
   "source": [
    "## Save Knowledge Base to Files"
   ]
  },
  {
   "cell_type": "code",
   "execution_count": 11,
   "id": "08b9ec29",
   "metadata": {},
   "outputs": [
    {
     "name": "stdout",
     "output_type": "stream",
     "text": [
      "✅ FAQs saved to knowledge_base/airline_faqs.json\n",
      "✅ Product documentation saved to knowledge_base/product_docs.yaml\n"
     ]
    }
   ],
   "source": [
    "# Create knowledge base directory if it doesn't exist\n",
    "knowledge_base_dir = Path(\"knowledge_base\")\n",
    "knowledge_base_dir.mkdir(exist_ok=True)\n",
    "\n",
    "# Save FAQs as JSON\n",
    "faqs_file = knowledge_base_dir / \"airline_faqs.json\"\n",
    "with open(faqs_file, 'w', encoding='utf-8') as f:\n",
    "    json.dump(faqs_data, f, ensure_ascii=False, indent=2)\n",
    "    \n",
    "print(f\"✅ FAQs saved to {faqs_file}\")\n",
    "\n",
    "# Save Product Documentation as YAML\n",
    "docs_file = knowledge_base_dir / \"product_docs.yaml\"\n",
    "with open(docs_file, 'w', encoding='utf-8') as f:\n",
    "    yaml.dump(product_docs, f, allow_unicode=True, default_flow_style=False)\n",
    "    \n",
    "print(f\"✅ Product documentation saved to {docs_file}\")"
   ]
  },
  {
   "cell_type": "markdown",
   "id": "4e315960",
   "metadata": {},
   "source": [
    "## Save Knowledge Base as Pickle Binary"
   ]
  },
  {
   "cell_type": "code",
   "execution_count": 12,
   "id": "ceec69d8",
   "metadata": {},
   "outputs": [
    {
     "name": "stdout",
     "output_type": "stream",
     "text": [
      "✅ Knowledge base saved as pickle binary to knowledge_base/knowledge_base.pkl\n",
      "Total documents in knowledge base: 28\n",
      "✅ Verified: Loaded 28 documents from pickle\n",
      "\n",
      "First document from pickle:\n",
      "What is the baggage allowance for domestic flights? Each passenger is allowed one checked bag up to ...\n"
     ]
    }
   ],
   "source": [
    "# Combine all knowledge base documents\n",
    "all_knowledge_docs = faqs_data + product_docs\n",
    "\n",
    "# Save as a pickle binary\n",
    "pickle_file = knowledge_base_dir / \"knowledge_base.pkl\"\n",
    "with open(pickle_file, 'wb') as f:\n",
    "    pickle.dump(all_knowledge_docs, f)\n",
    "    \n",
    "print(f\"✅ Knowledge base saved as pickle binary to {pickle_file}\")\n",
    "print(f\"Total documents in knowledge base: {len(all_knowledge_docs)}\")\n",
    "\n",
    "# Verify the pickle file by loading it\n",
    "with open(pickle_file, 'rb') as f:\n",
    "    loaded_pickle_docs = pickle.load(f)\n",
    "    \n",
    "print(f\"✅ Verified: Loaded {len(loaded_pickle_docs)} documents from pickle\")\n",
    "print(\"\\nFirst document from pickle:\")\n",
    "print(loaded_pickle_docs[0][:100] + \"...\")"
   ]
  },
  {
   "cell_type": "markdown",
   "id": "c212723c",
   "metadata": {},
   "source": [
    "## Load and Test Knowledge Base"
   ]
  },
  {
   "cell_type": "code",
   "execution_count": 13,
   "id": "c038634a",
   "metadata": {},
   "outputs": [
    {
     "name": "stdout",
     "output_type": "stream",
     "text": [
      "✅ Successfully loaded 28 knowledge base entries.\n",
      "\n",
      "First 3 entries:\n",
      "1. What is the baggage allowance for domestic flights? Each passenger is allowed on...\n",
      "2. How early should I arrive at the airport before my flight? It is recommended to ...\n",
      "3. Can I change my flight after booking? Yes, you can change your flight up to 24 h...\n"
     ]
    }
   ],
   "source": [
    "def load_knowledge_base():\n",
    "    \"\"\"Load and combine all knowledge base documents.\"\"\"\n",
    "    pickle_file = knowledge_base_dir / \"knowledge_base.pkl\"\n",
    "    \n",
    "    # Try to load from pickle first\n",
    "    if pickle_file.exists():\n",
    "        with open(pickle_file, 'rb') as f:\n",
    "            return pickle.load(f)\n",
    "        \n",
    "    # Fallback to loading from individual files\n",
    "    all_docs = []\n",
    "    \n",
    "    # Load FAQs\n",
    "    with open(knowledge_base_dir / \"airline_faqs.json\", 'r', encoding='utf-8') as f:\n",
    "        faqs = json.load(f)\n",
    "        all_docs.extend(faqs)\n",
    "    \n",
    "    # Load product docs\n",
    "    with open(knowledge_base_dir / \"product_docs.yaml\", 'r', encoding='utf-8') as f:\n",
    "        docs = yaml.safe_load(f)\n",
    "        all_docs.extend(docs)   \n",
    "        \n",
    "    return all_docs\n",
    "\n",
    "# Test the loading function\n",
    "loaded_docs = load_knowledge_base()\n",
    "print(f\"✅ Successfully loaded {len(loaded_docs)} knowledge base entries.\")\n",
    "print(\"\\nFirst 3 entries:\")\n",
    "for i, doc in enumerate(loaded_docs[:3], 1):\n",
    "    print(f\"{i}. {doc[:80]}...\")"
   ]
  },
  {
   "cell_type": "markdown",
   "id": "241bf860",
   "metadata": {},
   "source": [
    "## Example: RAG Retrieval Simulation"
   ]
  },
  {
   "cell_type": "code",
   "execution_count": 14,
   "id": "4b6869a0",
   "metadata": {},
   "outputs": [
    {
     "name": "stdout",
     "output_type": "stream",
     "text": [
      "🔍 RAG Retrieval Examples:\n",
      "==================================================\n",
      "\n",
      "Query: How do I cancel my booking?\n",
      "  1. How do I check my bookings with the chatbot? You can retrieve your bookings by asking for your fligh...\n",
      "  2. How early should I arrive at the airport before my flight? It is recommended to arrive at least 2 ho...\n",
      "------------------------------\n",
      "\n",
      "Query: What can I bring in carry-on luggage?\n",
      "  1. What items are prohibited in carry-on luggage? Prohibited items include liquids over 100ml, sharp ob...\n",
      "  2. What is the policy for unaccompanied minors? Children aged 5-12 can travel alone with our unaccompan...\n",
      "------------------------------\n",
      "\n",
      "Query: Can the chatbot help me book flights?\n",
      "  1. Can the chatbot help me find flights? Yes, you can search for flights by providing the origin, desti...\n",
      "  2. What can I ask the chatbot? You can ask about flight availability, booking flights, checking your bo...\n",
      "------------------------------\n"
     ]
    }
   ],
   "source": [
    "# Simple keyword-based retrieval example\n",
    "def simple_retrieval(query, documents, top_k=3):\n",
    "    \"\"\"Simple keyword-based document retrieval.\"\"\"\n",
    "    query_words = query.lower().split()\n",
    "    scores = []\n",
    "    \n",
    "    for doc in documents:\n",
    "        doc_lower = doc.lower()\n",
    "        score = sum(1 for word in query_words if word in doc_lower)\n",
    "        scores.append((score, doc))\n",
    "        \n",
    "    # Sort by score and return top_k documents\n",
    "    scores.sort(reverse=True, key=lambda x: x[0])\n",
    "    return [doc for score, doc in scores[:top_k] if score > 0]\n",
    "\n",
    "# Test queries\n",
    "test_queries = [\n",
    "    \"How do I cancel my booking?\",\n",
    "    \"What can I bring in carry-on luggage?\",\n",
    "    \"Can the chatbot help me book flights?\"\n",
    "]\n",
    "\n",
    "print(\"🔍 RAG Retrieval Examples:\")\n",
    "print(\"=\" * 50)\n",
    "\n",
    "for query in test_queries:\n",
    "    print(f\"\\nQuery: {query}\")\n",
    "    relevant_docs = simple_retrieval(query, loaded_docs, top_k=2)\n",
    "    \n",
    "    if relevant_docs:\n",
    "        for i, doc in enumerate(relevant_docs, 1):\n",
    "            print(f\"  {i}. {doc[:100]}...\")\n",
    "    else:\n",
    "        print(\"  No relevant documents found.\")\n",
    "    print(\"-\" * 30)"
   ]
  }
 ],
 "metadata": {
  "kernelspec": {
   "display_name": "Python 3 (ipykernel)",
   "language": "python",
   "name": "python3"
  },
  "language_info": {
   "codemirror_mode": {
    "name": "ipython",
    "version": 3
   },
   "file_extension": ".py",
   "mimetype": "text/x-python",
   "name": "python",
   "nbconvert_exporter": "python",
   "pygments_lexer": "ipython3",
   "version": "3.12.11"
  }
 },
 "nbformat": 4,
 "nbformat_minor": 5
}
